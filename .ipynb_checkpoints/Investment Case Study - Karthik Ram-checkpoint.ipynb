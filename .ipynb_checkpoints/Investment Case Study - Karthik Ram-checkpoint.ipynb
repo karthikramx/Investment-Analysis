{
 "cells": [
  {
   "cell_type": "code",
   "execution_count": 59,
   "metadata": {},
   "outputs": [],
   "source": [
    "#Check point 1 - Data Cleaing 1\n",
    "\n",
    "import pandas as pd\n",
    "import os\n",
    "\n",
    "companies = pd.read_csv(\"data/companies.txt\",sep='\\t',encoding = 'ISO-8859-1')\n",
    "rounds2 = pd.read_csv(\"data/rounds2.csv\",encoding = 'ISO-8859-1')\n"
   ]
  },
  {
   "cell_type": "code",
   "execution_count": 60,
   "metadata": {},
   "outputs": [],
   "source": [
    "\n",
    "# cleaning permalink columns in rounds2 and companies data set\n",
    "companies['permalink'] = companies['permalink'].str.lower()\n",
    "rounds2['company_permalink'] = rounds2['company_permalink'].str.lower()\n",
    "\n",
    "# merging companies and rounds2 data frames\n",
    "master_frame = pd.merge(rounds2,companies,how = 'left',left_on = 'company_permalink', right_on='permalink')"
   ]
  },
  {
   "cell_type": "code",
   "execution_count": 69,
   "metadata": {},
   "outputs": [
    {
     "name": "stdout",
     "output_type": "stream",
     "text": [
      "Unique companies in rounds2 Dataset :66370\n",
      "Unique companies in companies Dataset :66368\n",
      "                             permalink                    name  \\\n",
      "0                  /organization/-fame                   #fame   \n",
      "1               /organization/-qounter                :Qounter   \n",
      "2  /organization/-the-one-of-them-inc-  (THE) ONE of THEM,Inc.   \n",
      "3                /organization/0-6-com                 0-6.com   \n",
      "4       /organization/004-technologies        004 Technologies   \n",
      "\n",
      "                        homepage_url  \\\n",
      "0                 http://livfame.com   \n",
      "1             http://www.qounter.com   \n",
      "2                http://oneofthem.jp   \n",
      "3                 http://www.0-6.com   \n",
      "4  http://004gmbh.de/en/004-interact   \n",
      "\n",
      "                                       category_list     status country_code  \\\n",
      "0                                              Media  operating          IND   \n",
      "1  Application Platforms|Real Time|Social Network...  operating          USA   \n",
      "2                                  Apps|Games|Mobile  operating          NaN   \n",
      "3                                        Curated Web  operating          CHN   \n",
      "4                                           Software  operating          USA   \n",
      "\n",
      "  state_code                 region           city  founded_at  \n",
      "0         16                 Mumbai         Mumbai         NaN  \n",
      "1         DE             DE - Other  Delaware City  04-09-2014  \n",
      "2        NaN                    NaN            NaN         NaN  \n",
      "3         22                Beijing        Beijing  01-01-2007  \n",
      "4         IL  Springfield, Illinois      Champaign  01-01-2010  \n",
      "Since Unique permalinks in rounds2 is greater than companies unique permalinks : YES\n"
     ]
    }
   ],
   "source": [
    "# Counting Unique companies in rounds2 data set\n",
    "print(\"Unique companies in rounds2 Dataset :{}\".format(len(rounds2['company_permalink'].unique())))\n",
    "\n",
    "# Counting Unique companies in companies data set\n",
    "print(\"Unique companies in companies Dataset :{}\".format(len(companies['permalink'].unique())))\n",
    "\n",
    "# which comlumn in companies can be used as unique id?\n",
    "companies.head()\n",
    "\n",
    "# Are there any companies in the rounds2 file which are not  present in companies?\n",
    "#print(\"Since Unique permalinks in rounds2 is greater than companies unique permalinks : YES\")"
   ]
  },
  {
   "cell_type": "code",
   "execution_count": 67,
   "metadata": {},
   "outputs": [],
   "source": []
  },
  {
   "cell_type": "code",
   "execution_count": 68,
   "metadata": {},
   "outputs": [
    {
     "data": {
      "text/plain": [
       "114949"
      ]
     },
     "execution_count": 68,
     "metadata": {},
     "output_type": "execute_result"
    }
   ],
   "source": [
    "# Length of master_frame \n",
    "len(master_frame.index)"
   ]
  },
  {
   "cell_type": "code",
   "execution_count": null,
   "metadata": {},
   "outputs": [],
   "source": []
  }
 ],
 "metadata": {
  "kernelspec": {
   "display_name": "Python 3",
   "language": "python",
   "name": "python3"
  },
  "language_info": {
   "codemirror_mode": {
    "name": "ipython",
    "version": 3
   },
   "file_extension": ".py",
   "mimetype": "text/x-python",
   "name": "python",
   "nbconvert_exporter": "python",
   "pygments_lexer": "ipython3",
   "version": "3.7.4"
  }
 },
 "nbformat": 4,
 "nbformat_minor": 2
}
