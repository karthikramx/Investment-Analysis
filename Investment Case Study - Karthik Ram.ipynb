{
 "cells": [
  {
   "cell_type": "code",
   "execution_count": 59,
   "metadata": {},
   "outputs": [],
   "source": [
    "#Check point 1 - Data Cleaing 1\n",
    "\n",
    "import pandas as pd\n",
    "import os\n",
    "\n",
    "companies = pd.read_csv(\"data/companies.txt\",sep='\\t',encoding = 'ISO-8859-1')\n",
    "rounds2 = pd.read_csv(\"data/rounds2.csv\",encoding = 'ISO-8859-1')\n"
   ]
  },
  {
   "cell_type": "code",
   "execution_count": 60,
   "metadata": {},
   "outputs": [],
   "source": [
    "\n",
    "# cleaning permalink columns in rounds2 and companies data set\n",
    "companies['permalink'] = companies['permalink'].str.lower()\n",
    "rounds2['company_permalink'] = rounds2['company_permalink'].str.lower()\n",
    "\n",
    "# merging companies and rounds2 data frames\n",
    "master_frame = pd.merge(rounds2,companies,how = 'left',left_on = 'company_permalink', right_on='permalink')"
   ]
  },
  {
   "cell_type": "code",
   "execution_count": 78,
   "metadata": {},
   "outputs": [
    {
     "name": "stdout",
     "output_type": "stream",
     "text": [
      "UNDERSTANDING THE DATA SET - CHECKPOINT 1\n",
      "1. Unique companies in rounds2 Dataset :66370\n",
      "2. Unique companies in companies Dataset :66368\n",
      "3. Length of name column in companies data set:66368\n",
      "   Since number of Unique permalinks is equal to the number of names listed, permalink column can be used as a unique ID\n",
      "4. Since Unique permalinks in rounds2 is greater than companies unique permalinks : YES\n",
      "5. Number of observations in merged frame: 114949\n"
     ]
    }
   ],
   "source": [
    "print(\"UNDERSTANDING THE DATA SET - CHECKPOINT 1\")\n",
    "print(\"1. Unique companies in rounds2 Dataset :{}\".format(len(rounds2['company_permalink'].unique())))\n",
    "print(\"2. Unique companies in companies Dataset :{}\".format(len(companies['permalink'].unique())))\n",
    "print(\"3. Length of name column in companies data set:{}\".format(len(companies['name'])))\n",
    "print(\"   Since number of Unique permalinks is equal to the number of names listed, permalink column can be used as a unique ID\")\n",
    "print(\"4. Since Unique permalinks in rounds2 is greater than companies unique permalinks : YES\")\n",
    "print(\"5. Number of observations in merged frame: {}\".format(len(master_frame.index)))"
   ]
  },
  {
   "cell_type": "code",
   "execution_count": 67,
   "metadata": {},
   "outputs": [],
   "source": [
    "\n"
   ]
  },
  {
   "cell_type": "code",
   "execution_count": 68,
   "metadata": {},
   "outputs": [
    {
     "data": {
      "text/plain": [
       "114949"
      ]
     },
     "execution_count": 68,
     "metadata": {},
     "output_type": "execute_result"
    }
   ],
   "source": [
    "\n"
   ]
  },
  {
   "cell_type": "code",
   "execution_count": null,
   "metadata": {},
   "outputs": [],
   "source": []
  }
 ],
 "metadata": {
  "kernelspec": {
   "display_name": "Python 3",
   "language": "python",
   "name": "python3"
  },
  "language_info": {
   "codemirror_mode": {
    "name": "ipython",
    "version": 3
   },
   "file_extension": ".py",
   "mimetype": "text/x-python",
   "name": "python",
   "nbconvert_exporter": "python",
   "pygments_lexer": "ipython3",
   "version": "3.7.4"
  }
 },
 "nbformat": 4,
 "nbformat_minor": 2
}
