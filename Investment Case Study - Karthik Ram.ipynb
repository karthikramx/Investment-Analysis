{
 "cells": [
  {
   "cell_type": "code",
   "execution_count": 2,
   "metadata": {},
   "outputs": [],
   "source": [
    "#Check point 1 - Data Cleaing 1\n",
    "\n",
    "import pandas as pd\n",
    "import os\n",
    "\n",
    "companies = pd.read_csv(\"data/companies.txt\",sep='\\t',encoding = 'ISO-8859-1')\n",
    "rounds2 = pd.read_csv(\"data/rounds2.csv\",encoding = 'ISO-8859-1')"
   ]
  },
  {
   "cell_type": "code",
   "execution_count": 16,
   "metadata": {},
   "outputs": [],
   "source": [
    "# merging companies and rounds2 data frames\n",
    "\n",
    "# renaming company_permalink column\n",
    "rounds2.columns = ['permalink', 'funding_round_permalink', 'funding_round_type',\n",
    "       'funding_round_code', 'funded_at', 'raised_amount_usd']\n",
    "\n",
    "# code of case matching in both data frames\n",
    "companies['permalink'] = companies['permalink'].str.lower()\n",
    "rounds2['permalink'] = rounds2['permalink'].str.lower()\n",
    "\n",
    "# inner merge\n",
    "master_frame = pd.merge(companies,rounds2,how = 'inner',on = 'permalink')"
   ]
  }
 ],
 "metadata": {
  "kernelspec": {
   "display_name": "Python 3",
   "language": "python",
   "name": "python3"
  },
  "language_info": {
   "codemirror_mode": {
    "name": "ipython",
    "version": 3
   },
   "file_extension": ".py",
   "mimetype": "text/x-python",
   "name": "python",
   "nbconvert_exporter": "python",
   "pygments_lexer": "ipython3",
   "version": "3.7.4"
  }
 },
 "nbformat": 4,
 "nbformat_minor": 2
}
